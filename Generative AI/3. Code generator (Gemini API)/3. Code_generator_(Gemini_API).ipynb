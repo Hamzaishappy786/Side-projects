{
  "nbformat": 4,
  "nbformat_minor": 0,
  "metadata": {
    "colab": {
      "provenance": [],
      "gpuType": "T4",
      "authorship_tag": "ABX9TyO1PY4/ANrO0teyrMTnxt58",
      "include_colab_link": true
    },
    "kernelspec": {
      "name": "python3",
      "display_name": "Python 3"
    },
    "language_info": {
      "name": "python"
    },
    "accelerator": "GPU"
  },
  "cells": [
    {
      "cell_type": "markdown",
      "metadata": {
        "id": "view-in-github",
        "colab_type": "text"
      },
      "source": [
        "<a href=\"https://colab.research.google.com/github/Hamzaishappy786/Side-projects/blob/main/Generative%20AI/3.%20Code%20generator%20(Gemini%20API)/3.%20Code_generator_(Gemini_API).ipynb\" target=\"_parent\"><img src=\"https://colab.research.google.com/assets/colab-badge.svg\" alt=\"Open In Colab\"/></a>"
      ]
    },
    {
      "cell_type": "markdown",
      "source": [
        "# Python and C++ Code generator"
      ],
      "metadata": {
        "id": "r_XnsG4dM_vs"
      }
    },
    {
      "cell_type": "markdown",
      "source": [
        "## Install libraries, if haven't"
      ],
      "metadata": {
        "id": "alNWWYedM_Fg"
      }
    },
    {
      "cell_type": "code",
      "source": [
        "!pip install google-generativeai pygments"
      ],
      "metadata": {
        "id": "GtGobAXxM-Qd"
      },
      "execution_count": null,
      "outputs": []
    },
    {
      "cell_type": "markdown",
      "source": [
        "### Import them:\n",
        "1. Regex (re)\n",
        "2. GenAI\n",
        "3. pygments"
      ],
      "metadata": {
        "id": "qu6OtkekNKyn"
      }
    },
    {
      "cell_type": "code",
      "source": [
        "import re\n",
        "import google.generativeai as genai\n",
        "from pygments import highlight\n",
        "from pygments.lexers import PythonLexer, CppLexer\n",
        "from pygments.formatters import TerminalFormatter"
      ],
      "metadata": {
        "id": "TR8vbjj8NJ0c"
      },
      "execution_count": 9,
      "outputs": []
    },
    {
      "cell_type": "markdown",
      "source": [
        "### Set up your gemini api"
      ],
      "metadata": {
        "id": "ugrLmApcNWd4"
      }
    },
    {
      "cell_type": "code",
      "source": [
        "# Set up Gemini API key (Replace 'YOUR_GEMINI_API_KEY' with your actual API key)\n",
        "API_KEY = \"YOUR_GEMINI_API_KEY\"\n",
        "genai.configure(api_key=API_KEY)"
      ],
      "metadata": {
        "id": "rgD1ZfxZNWpn"
      },
      "execution_count": 10,
      "outputs": []
    },
    {
      "cell_type": "markdown",
      "source": [
        "### Look at available models:"
      ],
      "metadata": {
        "id": "Gdxa6MIpNnTF"
      }
    },
    {
      "cell_type": "code",
      "source": [
        "genai.configure(api_key=\"Provide your API key\")\n",
        "models = genai.list_models()\n",
        "for model in models: print(model.name)"
      ],
      "metadata": {
        "colab": {
          "base_uri": "https://localhost:8080/",
          "height": 798
        },
        "id": "0txwz_A8Nnc5",
        "outputId": "a2d77717-5897-4f19-d9b1-9f8ca0ec2860"
      },
      "execution_count": 12,
      "outputs": [
        {
          "output_type": "stream",
          "name": "stdout",
          "text": [
            "models/chat-bison-001\n",
            "models/text-bison-001\n",
            "models/embedding-gecko-001\n",
            "models/gemini-1.0-pro-vision-latest\n",
            "models/gemini-pro-vision\n",
            "models/gemini-1.5-pro-latest\n",
            "models/gemini-1.5-pro-001\n",
            "models/gemini-1.5-pro-002\n",
            "models/gemini-1.5-pro\n",
            "models/gemini-1.5-flash-latest\n",
            "models/gemini-1.5-flash-001\n",
            "models/gemini-1.5-flash-001-tuning\n",
            "models/gemini-1.5-flash\n",
            "models/gemini-1.5-flash-002\n",
            "models/gemini-1.5-flash-8b\n",
            "models/gemini-1.5-flash-8b-001\n",
            "models/gemini-1.5-flash-8b-latest\n",
            "models/gemini-1.5-flash-8b-exp-0827\n",
            "models/gemini-1.5-flash-8b-exp-0924\n",
            "models/gemini-2.5-pro-exp-03-25\n",
            "models/gemini-2.0-flash-exp\n",
            "models/gemini-2.0-flash\n",
            "models/gemini-2.0-flash-001\n",
            "models/gemini-2.0-flash-exp-image-generation\n",
            "models/gemini-2.0-flash-lite-001\n",
            "models/gemini-2.0-flash-lite\n",
            "models/gemini-2.0-flash-lite-preview-02-05\n",
            "models/gemini-2.0-flash-lite-preview\n",
            "models/gemini-2.0-pro-exp\n",
            "models/gemini-2.0-pro-exp-02-05\n",
            "models/gemini-exp-1206\n",
            "models/gemini-2.0-flash-thinking-exp-01-21\n",
            "models/gemini-2.0-flash-thinking-exp\n",
            "models/gemini-2.0-flash-thinking-exp-1219\n",
            "models/learnlm-1.5-pro-experimental\n",
            "models/gemma-3-1b-it\n",
            "models/gemma-3-4b-it\n",
            "models/gemma-3-12b-it\n",
            "models/gemma-3-27b-it\n",
            "models/embedding-001\n",
            "models/text-embedding-004\n",
            "models/gemini-embedding-exp-03-07\n",
            "models/gemini-embedding-exp\n",
            "models/aqa\n",
            "models/imagen-3.0-generate-002\n"
          ]
        }
      ]
    },
    {
      "cell_type": "markdown",
      "source": [
        "### Function to Get AI-Generated Code"
      ],
      "metadata": {
        "id": "1HrrX6tANf4E"
      }
    },
    {
      "cell_type": "code",
      "source": [
        "# Function to get AI-generated code from Gemini API\n",
        "def generate_code(prompt):\n",
        "    model = genai.GenerativeModel(\"gemini-1.5-flash\")  # Using Gemini Pro\n",
        "    response = model.generate_content(prompt)\n",
        "\n",
        "    # Extract code from response\n",
        "    return response.text if response.text else \"Error: No response from Gemini.\""
      ],
      "metadata": {
        "id": "Op4G16O3Kfgi"
      },
      "execution_count": 18,
      "outputs": []
    },
    {
      "cell_type": "markdown",
      "source": [
        "### Function for Syntax Highlighting(colorizing keywords) Using ANSI Escape Codes"
      ],
      "metadata": {
        "id": "IF1leHS6N3VC"
      }
    },
    {
      "cell_type": "code",
      "source": [
        "# Function to colorize text using ANSI escape codes (Alternative to Pygments)\n",
        "def colorize_text(text):\n",
        "    \"\"\"\n",
        "    Colorizes keywords and numbers in the generated code output.\n",
        "    - Keywords: Cyan\n",
        "    - Numbers: Yellow\n",
        "    - Strings: Green\n",
        "    \"\"\"\n",
        "    CYAN = \"\\033[96m\"\n",
        "    YELLOW = \"\\033[93m\"\n",
        "    GREEN = \"\\033[92m\"\n",
        "    RESET = \"\\033[0m\"\n",
        "\n",
        "    keywords = [\n",
        "        \"def\", \"return\", \"if\", \"else\", \"elif\", \"for\", \"while\", \"try\", \"except\", \"finally\",\n",
        "        \"import\", \"from\", \"as\", \"class\", \"with\", \"break\", \"continue\", \"pass\", \"is\", \"in\", \"not\",\n",
        "        \"void\", \"int\", \"float\", \"double\", \"char\", \"string\", \"bool\", \"public\", \"private\", \"protected\",\n",
        "        \"static\", \"const\", \"new\", \"delete\", \"include\", \"using\", \"namespace\"\n",
        "    ]\n",
        "\n",
        "    for keyword in keywords:\n",
        "        text = re.sub(rf'\\b{keyword}\\b', f\"{CYAN}{keyword}{RESET}\", text)\n",
        "\n",
        "    text = re.sub(r'\\b\\d+\\b', f\"{YELLOW}\\\\g<0>{RESET}\", text)\n",
        "    text = re.sub(r'(\\\".*?\\\"|\\'.*?\\')', f\"{GREEN}\\\\g<0>{RESET}\", text)\n",
        "\n",
        "    return text"
      ],
      "metadata": {
        "id": "emwqTJFoM8sf"
      },
      "execution_count": 14,
      "outputs": []
    },
    {
      "cell_type": "markdown",
      "source": [
        "### Function to Print Colored Code Using Pygments"
      ],
      "metadata": {
        "id": "xnqiL_n2OCg0"
      }
    },
    {
      "cell_type": "code",
      "source": [
        "# Function to print colored code using Pygments (Preferred for syntax highlighting)\n",
        "def print_colored_code(code, language=\"python\"):\n",
        "    lexer = PythonLexer() if language.lower() == \"python\" else CppLexer()\n",
        "    print(highlight(code, lexer, TerminalFormatter()))"
      ],
      "metadata": {
        "id": "fIITUB7qOCqm"
      },
      "execution_count": 15,
      "outputs": []
    },
    {
      "cell_type": "markdown",
      "source": [
        "## Main Loop for AI Code Generator"
      ],
      "metadata": {
        "id": "9gLgJYcEOHbk"
      }
    },
    {
      "cell_type": "code",
      "source": [
        "# Main loop for the AI-powered code generator\n",
        "def main():\n",
        "    print(\"🔹 Enter your code query (or type 'quit' to exit):\")\n",
        "\n",
        "    while True:\n",
        "        user_query = input(\"\\n💡 Query: \")\n",
        "\n",
        "        if user_query.lower() == \"quit\":\n",
        "            print(\"🚀 Exiting AI Code Generator. Goodbye!\")\n",
        "            break\n",
        "\n",
        "        print(\"\\n⏳ Generating Code...\\n\")\n",
        "        generated_code = generate_code(user_query)\n",
        "\n",
        "        # Detect the language (basic check for Python or C++)\n",
        "        if \"include\" in generated_code or \"cout\" in generated_code:\n",
        "            detected_language = \"cpp\"\n",
        "        else:\n",
        "            detected_language = \"python\"\n",
        "\n",
        "        print(\"📝 Generated Code:\\n\")\n",
        "\n",
        "        # Use Pygments if available, otherwise fallback to ANSI coloring\n",
        "        try:\n",
        "            print_colored_code(generated_code, detected_language)\n",
        "        except ImportError:\n",
        "            print(colorize_text(generated_code))\n",
        "\n",
        "# Run the AI code generator\n",
        "main()"
      ],
      "metadata": {
        "colab": {
          "base_uri": "https://localhost:8080/",
          "height": 1000
        },
        "id": "tseR63usOHkx",
        "outputId": "c9425af4-289a-4bc1-f412-498ad9cc22b1"
      },
      "execution_count": 19,
      "outputs": [
        {
          "output_type": "stream",
          "name": "stdout",
          "text": [
            "🔹 Enter your code query (or type 'quit' to exit):\n",
            "\n",
            "💡 Query: Please provide me single code for fizzbuzz problem\n",
            "\n",
            "⏳ Generating Code...\n",
            "\n",
            "📝 Generated Code:\n",
            "\n",
            "Several\u001b[37m \u001b[39;49;00mconcise\u001b[37m \u001b[39;49;00msolutions\u001b[37m \u001b[39;49;00mexist,\u001b[37m \u001b[39;49;00mdepending\u001b[37m \u001b[39;49;00mon\u001b[37m \u001b[39;49;00myour\u001b[37m \u001b[39;49;00mpreferred\u001b[37m \u001b[39;49;00mstyle\u001b[37m \u001b[39;49;00m\u001b[34mand\u001b[39;49;00m\u001b[37m \u001b[39;49;00mlanguage.\u001b[37m  \u001b[39;49;00mHere\u001b[37m \u001b[39;49;00mare\u001b[37m \u001b[39;49;00ma\u001b[37m \u001b[39;49;00mfew\u001b[37m \u001b[39;49;00mexamples:\u001b[37m\u001b[39;49;00m\n",
            "\u001b[37m\u001b[39;49;00m\n",
            "**Python\u001b[37m \u001b[39;49;00m(List\u001b[37m \u001b[39;49;00mComprehension):**\u001b[37m\u001b[39;49;00m\n",
            "\u001b[37m\u001b[39;49;00m\n",
            "\u001b[04m\u001b[91m`\u001b[39;49;00m\u001b[04m\u001b[91m`\u001b[39;49;00m\u001b[04m\u001b[91m`\u001b[39;49;00mpython\u001b[37m\u001b[39;49;00m\n",
            "print(\u001b[33m'\u001b[39;49;00m\u001b[33m\\n\u001b[39;49;00m\u001b[33m'\u001b[39;49;00m.join([\u001b[04m\u001b[91m'\u001b[39;49;00mFizzBuzz\u001b[04m\u001b[91m'\u001b[39;49;00m\u001b[37m \u001b[39;49;00m\u001b[34mif\u001b[39;49;00m\u001b[37m \u001b[39;49;00mi%\u001b[34m15\u001b[39;49;00m==\u001b[34m0\u001b[39;49;00m\u001b[37m \u001b[39;49;00m\u001b[34melse\u001b[39;49;00m\u001b[37m \u001b[39;49;00m\u001b[04m\u001b[91m'\u001b[39;49;00mFizz\u001b[04m\u001b[91m'\u001b[39;49;00m\u001b[37m \u001b[39;49;00m\u001b[34mif\u001b[39;49;00m\u001b[37m \u001b[39;49;00mi%\u001b[34m3\u001b[39;49;00m==\u001b[34m0\u001b[39;49;00m\u001b[37m \u001b[39;49;00m\u001b[34melse\u001b[39;49;00m\u001b[37m \u001b[39;49;00m\u001b[04m\u001b[91m'\u001b[39;49;00mBuzz\u001b[04m\u001b[91m'\u001b[39;49;00m\u001b[37m \u001b[39;49;00m\u001b[34mif\u001b[39;49;00m\u001b[37m \u001b[39;49;00mi%\u001b[34m5\u001b[39;49;00m==\u001b[34m0\u001b[39;49;00m\u001b[37m \u001b[39;49;00m\u001b[34melse\u001b[39;49;00m\u001b[37m \u001b[39;49;00mstr(i)\u001b[37m \u001b[39;49;00m\u001b[34mfor\u001b[39;49;00m\u001b[37m \u001b[39;49;00mi\u001b[37m \u001b[39;49;00min\u001b[37m \u001b[39;49;00mrange(\u001b[34m1\u001b[39;49;00m,\u001b[34m101\u001b[39;49;00m)]))\u001b[37m\u001b[39;49;00m\n",
            "\u001b[04m\u001b[91m`\u001b[39;49;00m\u001b[04m\u001b[91m`\u001b[39;49;00m\u001b[04m\u001b[91m`\u001b[39;49;00m\u001b[37m\u001b[39;49;00m\n",
            "\u001b[37m\u001b[39;49;00m\n",
            "**Python\u001b[37m \u001b[39;49;00m(more\u001b[37m \u001b[39;49;00mreadable):**\u001b[37m\u001b[39;49;00m\n",
            "\u001b[37m\u001b[39;49;00m\n",
            "\u001b[04m\u001b[91m`\u001b[39;49;00m\u001b[04m\u001b[91m`\u001b[39;49;00m\u001b[04m\u001b[91m`\u001b[39;49;00mpython\u001b[37m\u001b[39;49;00m\n",
            "\u001b[34mfor\u001b[39;49;00m\u001b[37m \u001b[39;49;00mi\u001b[37m \u001b[39;49;00min\u001b[37m \u001b[39;49;00mrange(\u001b[34m1\u001b[39;49;00m,\u001b[37m \u001b[39;49;00m\u001b[34m101\u001b[39;49;00m):\u001b[37m\u001b[39;49;00m\n",
            "\u001b[37m    \u001b[39;49;00moutput\u001b[37m \u001b[39;49;00m=\u001b[37m \u001b[39;49;00m\u001b[33m\"\u001b[39;49;00m\u001b[33m\"\u001b[39;49;00m\u001b[37m\u001b[39;49;00m\n",
            "\u001b[37m    \u001b[39;49;00m\u001b[34mif\u001b[39;49;00m\u001b[37m \u001b[39;49;00mi\u001b[37m \u001b[39;49;00m%\u001b[37m \u001b[39;49;00m\u001b[34m3\u001b[39;49;00m\u001b[37m \u001b[39;49;00m==\u001b[37m \u001b[39;49;00m\u001b[34m0\u001b[39;49;00m:\u001b[37m\u001b[39;49;00m\n",
            "\u001b[37m        \u001b[39;49;00moutput\u001b[37m \u001b[39;49;00m+=\u001b[37m \u001b[39;49;00m\u001b[33m\"\u001b[39;49;00m\u001b[33mFizz\u001b[39;49;00m\u001b[33m\"\u001b[39;49;00m\u001b[37m\u001b[39;49;00m\n",
            "\u001b[37m    \u001b[39;49;00m\u001b[34mif\u001b[39;49;00m\u001b[37m \u001b[39;49;00mi\u001b[37m \u001b[39;49;00m%\u001b[37m \u001b[39;49;00m\u001b[34m5\u001b[39;49;00m\u001b[37m \u001b[39;49;00m==\u001b[37m \u001b[39;49;00m\u001b[34m0\u001b[39;49;00m:\u001b[37m\u001b[39;49;00m\n",
            "\u001b[37m        \u001b[39;49;00moutput\u001b[37m \u001b[39;49;00m+=\u001b[37m \u001b[39;49;00m\u001b[33m\"\u001b[39;49;00m\u001b[33mBuzz\u001b[39;49;00m\u001b[33m\"\u001b[39;49;00m\u001b[37m\u001b[39;49;00m\n",
            "\u001b[37m    \u001b[39;49;00mprint(output\u001b[37m \u001b[39;49;00m\u001b[34mor\u001b[39;49;00m\u001b[37m \u001b[39;49;00mi)\u001b[37m\u001b[39;49;00m\n",
            "\u001b[04m\u001b[91m`\u001b[39;49;00m\u001b[04m\u001b[91m`\u001b[39;49;00m\u001b[04m\u001b[91m`\u001b[39;49;00m\u001b[37m\u001b[39;49;00m\n",
            "\u001b[37m\u001b[39;49;00m\n",
            "**JavaScript:**\u001b[37m\u001b[39;49;00m\n",
            "\u001b[37m\u001b[39;49;00m\n",
            "\u001b[04m\u001b[91m`\u001b[39;49;00m\u001b[04m\u001b[91m`\u001b[39;49;00m\u001b[04m\u001b[91m`\u001b[39;49;00mjavascript\u001b[37m\u001b[39;49;00m\n",
            "\u001b[34mfor\u001b[39;49;00m\u001b[37m \u001b[39;49;00m(let\u001b[37m \u001b[39;49;00mi\u001b[37m \u001b[39;49;00m=\u001b[37m \u001b[39;49;00m\u001b[34m1\u001b[39;49;00m;\u001b[37m \u001b[39;49;00mi\u001b[37m \u001b[39;49;00m<=\u001b[37m \u001b[39;49;00m\u001b[34m100\u001b[39;49;00m;\u001b[37m \u001b[39;49;00mi++)\u001b[37m \u001b[39;49;00m{\u001b[37m\u001b[39;49;00m\n",
            "\u001b[37m  \u001b[39;49;00mlet\u001b[37m \u001b[39;49;00moutput\u001b[37m \u001b[39;49;00m=\u001b[37m \u001b[39;49;00m\u001b[33m\"\u001b[39;49;00m\u001b[33m\"\u001b[39;49;00m;\u001b[37m\u001b[39;49;00m\n",
            "\u001b[37m  \u001b[39;49;00m\u001b[34mif\u001b[39;49;00m\u001b[37m \u001b[39;49;00m(i\u001b[37m \u001b[39;49;00m%\u001b[37m \u001b[39;49;00m\u001b[34m3\u001b[39;49;00m\u001b[37m \u001b[39;49;00m===\u001b[37m \u001b[39;49;00m\u001b[34m0\u001b[39;49;00m)\u001b[37m \u001b[39;49;00moutput\u001b[37m \u001b[39;49;00m+=\u001b[37m \u001b[39;49;00m\u001b[33m\"\u001b[39;49;00m\u001b[33mFizz\u001b[39;49;00m\u001b[33m\"\u001b[39;49;00m;\u001b[37m\u001b[39;49;00m\n",
            "\u001b[37m  \u001b[39;49;00m\u001b[34mif\u001b[39;49;00m\u001b[37m \u001b[39;49;00m(i\u001b[37m \u001b[39;49;00m%\u001b[37m \u001b[39;49;00m\u001b[34m5\u001b[39;49;00m\u001b[37m \u001b[39;49;00m===\u001b[37m \u001b[39;49;00m\u001b[34m0\u001b[39;49;00m)\u001b[37m \u001b[39;49;00moutput\u001b[37m \u001b[39;49;00m+=\u001b[37m \u001b[39;49;00m\u001b[33m\"\u001b[39;49;00m\u001b[33mBuzz\u001b[39;49;00m\u001b[33m\"\u001b[39;49;00m;\u001b[37m\u001b[39;49;00m\n",
            "\u001b[37m  \u001b[39;49;00mconsole.log(output\u001b[37m \u001b[39;49;00m||\u001b[37m \u001b[39;49;00mi);\u001b[37m\u001b[39;49;00m\n",
            "}\u001b[37m\u001b[39;49;00m\n",
            "\u001b[04m\u001b[91m`\u001b[39;49;00m\u001b[04m\u001b[91m`\u001b[39;49;00m\u001b[04m\u001b[91m`\u001b[39;49;00m\u001b[37m\u001b[39;49;00m\n",
            "\u001b[37m\u001b[39;49;00m\n",
            "**C++:**\u001b[37m\u001b[39;49;00m\n",
            "\u001b[37m\u001b[39;49;00m\n",
            "\u001b[04m\u001b[91m`\u001b[39;49;00m\u001b[04m\u001b[91m`\u001b[39;49;00m\u001b[04m\u001b[91m`\u001b[39;49;00mc++\u001b[37m\u001b[39;49;00m\n",
            "\u001b[36m#\u001b[39;49;00m\u001b[36minclude\u001b[39;49;00m\u001b[37m \u001b[39;49;00m\u001b[37m<iostream>\u001b[39;49;00m\u001b[36m\u001b[39;49;00m\n",
            "\u001b[36m#\u001b[39;49;00m\u001b[36minclude\u001b[39;49;00m\u001b[37m \u001b[39;49;00m\u001b[37m<string>\u001b[39;49;00m\u001b[36m\u001b[39;49;00m\n",
            "\u001b[37m\u001b[39;49;00m\n",
            "\u001b[36mint\u001b[39;49;00m\u001b[37m \u001b[39;49;00mmain()\u001b[37m \u001b[39;49;00m{\u001b[37m\u001b[39;49;00m\n",
            "\u001b[37m  \u001b[39;49;00m\u001b[34mfor\u001b[39;49;00m\u001b[37m \u001b[39;49;00m(\u001b[36mint\u001b[39;49;00m\u001b[37m \u001b[39;49;00mi\u001b[37m \u001b[39;49;00m=\u001b[37m \u001b[39;49;00m\u001b[34m1\u001b[39;49;00m;\u001b[37m \u001b[39;49;00mi\u001b[37m \u001b[39;49;00m<=\u001b[37m \u001b[39;49;00m\u001b[34m100\u001b[39;49;00m;\u001b[37m \u001b[39;49;00m++i)\u001b[37m \u001b[39;49;00m{\u001b[37m\u001b[39;49;00m\n",
            "\u001b[37m    \u001b[39;49;00mstd::string\u001b[37m \u001b[39;49;00moutput\u001b[37m \u001b[39;49;00m=\u001b[37m \u001b[39;49;00m\u001b[33m\"\u001b[39;49;00m\u001b[33m\"\u001b[39;49;00m;\u001b[37m\u001b[39;49;00m\n",
            "\u001b[37m    \u001b[39;49;00m\u001b[34mif\u001b[39;49;00m\u001b[37m \u001b[39;49;00m(i\u001b[37m \u001b[39;49;00m%\u001b[37m \u001b[39;49;00m\u001b[34m3\u001b[39;49;00m\u001b[37m \u001b[39;49;00m==\u001b[37m \u001b[39;49;00m\u001b[34m0\u001b[39;49;00m)\u001b[37m \u001b[39;49;00moutput\u001b[37m \u001b[39;49;00m+=\u001b[37m \u001b[39;49;00m\u001b[33m\"\u001b[39;49;00m\u001b[33mFizz\u001b[39;49;00m\u001b[33m\"\u001b[39;49;00m;\u001b[37m\u001b[39;49;00m\n",
            "\u001b[37m    \u001b[39;49;00m\u001b[34mif\u001b[39;49;00m\u001b[37m \u001b[39;49;00m(i\u001b[37m \u001b[39;49;00m%\u001b[37m \u001b[39;49;00m\u001b[34m5\u001b[39;49;00m\u001b[37m \u001b[39;49;00m==\u001b[37m \u001b[39;49;00m\u001b[34m0\u001b[39;49;00m)\u001b[37m \u001b[39;49;00moutput\u001b[37m \u001b[39;49;00m+=\u001b[37m \u001b[39;49;00m\u001b[33m\"\u001b[39;49;00m\u001b[33mBuzz\u001b[39;49;00m\u001b[33m\"\u001b[39;49;00m;\u001b[37m\u001b[39;49;00m\n",
            "\u001b[37m    \u001b[39;49;00mstd::cout\u001b[37m \u001b[39;49;00m<<\u001b[37m \u001b[39;49;00m(output.empty()\u001b[37m \u001b[39;49;00m?\u001b[37m \u001b[39;49;00mstd::to_string(i)\u001b[37m \u001b[39;49;00m:\u001b[37m \u001b[39;49;00moutput)\u001b[37m \u001b[39;49;00m<<\u001b[37m \u001b[39;49;00mstd::endl;\u001b[37m\u001b[39;49;00m\n",
            "\u001b[37m  \u001b[39;49;00m}\u001b[37m\u001b[39;49;00m\n",
            "\u001b[37m  \u001b[39;49;00m\u001b[34mreturn\u001b[39;49;00m\u001b[37m \u001b[39;49;00m\u001b[34m0\u001b[39;49;00m;\u001b[37m\u001b[39;49;00m\n",
            "}\u001b[37m\u001b[39;49;00m\n",
            "\u001b[04m\u001b[91m`\u001b[39;49;00m\u001b[04m\u001b[91m`\u001b[39;49;00m\u001b[04m\u001b[91m`\u001b[39;49;00m\u001b[37m\u001b[39;49;00m\n",
            "\u001b[37m\u001b[39;49;00m\n",
            "These\u001b[37m \u001b[39;49;00mexamples\u001b[37m \u001b[39;49;00mall\u001b[37m \u001b[39;49;00machieve\u001b[37m \u001b[39;49;00mthe\u001b[37m \u001b[39;49;00msame\u001b[37m \u001b[39;49;00mresult:\u001b[37m \u001b[39;49;00mprinting\u001b[37m \u001b[39;49;00mthe\u001b[37m \u001b[39;49;00mFizzBuzz\u001b[37m \u001b[39;49;00msequence\u001b[37m \u001b[39;49;00mfrom\u001b[37m \u001b[39;49;00m\u001b[34m1\u001b[39;49;00m\u001b[37m \u001b[39;49;00mto\u001b[37m \u001b[39;49;00m\u001b[34m100.\u001b[39;49;00m\u001b[37m \u001b[39;49;00mChoose\u001b[37m \u001b[39;49;00mthe\u001b[37m \u001b[39;49;00mone\u001b[37m \u001b[39;49;00mthat\u001b[37m \u001b[39;49;00mbest\u001b[37m \u001b[39;49;00msuits\u001b[37m \u001b[39;49;00myour\u001b[37m \u001b[39;49;00mprogramming\u001b[37m \u001b[39;49;00mlanguage\u001b[37m \u001b[39;49;00mpreference\u001b[37m \u001b[39;49;00m\u001b[34mand\u001b[39;49;00m\u001b[37m \u001b[39;49;00mreadability\u001b[37m \u001b[39;49;00mneeds.\u001b[37m  \u001b[39;49;00mThe\u001b[37m \u001b[39;49;00mPython\u001b[37m \u001b[39;49;00mlist\u001b[37m \u001b[39;49;00mcomprehension\u001b[37m \u001b[39;49;00mis\u001b[37m \u001b[39;49;00mthe\u001b[37m \u001b[39;49;00mmost\u001b[37m \u001b[39;49;00mcompact,\u001b[37m \u001b[39;49;00mbut\u001b[37m \u001b[39;49;00mthe\u001b[37m \u001b[39;49;00mother\u001b[37m \u001b[39;49;00mexamples\u001b[37m \u001b[39;49;00mmight\u001b[37m \u001b[39;49;00mbe\u001b[37m \u001b[39;49;00measier\u001b[37m \u001b[39;49;00mto\u001b[37m \u001b[39;49;00munderstand\u001b[37m \u001b[39;49;00m\u001b[34mfor\u001b[39;49;00m\u001b[37m \u001b[39;49;00mbeginners.\u001b[37m\u001b[39;49;00m\n",
            "\n",
            "\n",
            "💡 Query: just provide in python language\n",
            "\n",
            "⏳ Generating Code...\n",
            "\n",
            "📝 Generated Code:\n",
            "\n",
            "Please provide me \u001b[34mwith\u001b[39;49;00m a task \u001b[35mor\u001b[39;49;00m prompt.  I need instructions to give you Python code.  For example, you could ask me to:\u001b[37m\u001b[39;49;00m\n",
            "\u001b[37m\u001b[39;49;00m\n",
            "* \u001b[33m\"\u001b[39;49;00m\u001b[33mWrite a Python function to calculate the factorial of a number.\u001b[39;49;00m\u001b[33m\"\u001b[39;49;00m\u001b[37m\u001b[39;49;00m\n",
            "* \u001b[33m\"\u001b[39;49;00m\u001b[33mCreate a Python script that reads a file and prints its contents.\u001b[39;49;00m\u001b[33m\"\u001b[39;49;00m\u001b[37m\u001b[39;49;00m\n",
            "* \u001b[33m\"\u001b[39;49;00m\u001b[33mGenerate a Python program that simulates a dice roll.\u001b[39;49;00m\u001b[33m\"\u001b[39;49;00m\u001b[37m\u001b[39;49;00m\n",
            "\u001b[37m\u001b[39;49;00m\n",
            "I\u001b[33m'\u001b[39;49;00m\u001b[33mm ready when you are!\u001b[39;49;00m\u001b[37m\u001b[39;49;00m\n",
            "\n",
            "\n",
            "💡 Query: provide code for fizz buzz problem in python language, with no extra explainations\n",
            "\n",
            "⏳ Generating Code...\n",
            "\n",
            "📝 Generated Code:\n",
            "\n",
            "\u001b[04m\u001b[91m`\u001b[39;49;00m\u001b[04m\u001b[91m`\u001b[39;49;00m\u001b[04m\u001b[91m`\u001b[39;49;00mpython\u001b[37m\u001b[39;49;00m\n",
            "\u001b[34mdef\u001b[39;49;00m \u001b[32mfizzbuzz\u001b[39;49;00m(n):\u001b[37m\u001b[39;49;00m\n",
            "    \u001b[34mfor\u001b[39;49;00m i \u001b[35min\u001b[39;49;00m \u001b[36mrange\u001b[39;49;00m(\u001b[34m1\u001b[39;49;00m, n + \u001b[34m1\u001b[39;49;00m):\u001b[37m\u001b[39;49;00m\n",
            "        \u001b[34mif\u001b[39;49;00m i % \u001b[34m15\u001b[39;49;00m == \u001b[34m0\u001b[39;49;00m:\u001b[37m\u001b[39;49;00m\n",
            "            \u001b[36mprint\u001b[39;49;00m(\u001b[33m\"\u001b[39;49;00m\u001b[33mFizzBuzz\u001b[39;49;00m\u001b[33m\"\u001b[39;49;00m)\u001b[37m\u001b[39;49;00m\n",
            "        \u001b[34melif\u001b[39;49;00m i % \u001b[34m3\u001b[39;49;00m == \u001b[34m0\u001b[39;49;00m:\u001b[37m\u001b[39;49;00m\n",
            "            \u001b[36mprint\u001b[39;49;00m(\u001b[33m\"\u001b[39;49;00m\u001b[33mFizz\u001b[39;49;00m\u001b[33m\"\u001b[39;49;00m)\u001b[37m\u001b[39;49;00m\n",
            "        \u001b[34melif\u001b[39;49;00m i % \u001b[34m5\u001b[39;49;00m == \u001b[34m0\u001b[39;49;00m:\u001b[37m\u001b[39;49;00m\n",
            "            \u001b[36mprint\u001b[39;49;00m(\u001b[33m\"\u001b[39;49;00m\u001b[33mBuzz\u001b[39;49;00m\u001b[33m\"\u001b[39;49;00m)\u001b[37m\u001b[39;49;00m\n",
            "        \u001b[34melse\u001b[39;49;00m:\u001b[37m\u001b[39;49;00m\n",
            "            \u001b[36mprint\u001b[39;49;00m(i)\u001b[37m\u001b[39;49;00m\n",
            "\u001b[37m\u001b[39;49;00m\n",
            "\u001b[04m\u001b[91m`\u001b[39;49;00m\u001b[04m\u001b[91m`\u001b[39;49;00m\u001b[04m\u001b[91m`\u001b[39;49;00m\u001b[37m\u001b[39;49;00m\n",
            "\n",
            "\n",
            "💡 Query: quit\n",
            "🚀 Exiting AI Code Generator. Goodbye!\n"
          ]
        }
      ]
    }
  ]
}